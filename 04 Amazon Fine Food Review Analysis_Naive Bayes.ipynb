{
 "cells": [
  {
   "cell_type": "code",
   "execution_count": 1,
   "metadata": {},
   "outputs": [],
   "source": [
    "%matplotlib inline\n",
    "import warnings\n",
    "warnings.filterwarnings(\"ignore\")\n",
    "\n",
    "import sqlite3\n",
    "import pandas as pd\n",
    "import numpy as np\n",
    "import nltk\n",
    "import string\n",
    "import matplotlib.pyplot as plt\n",
    "import seaborn as sns\n",
    "from sklearn.feature_extraction.text import TfidfTransformer\n",
    "from sklearn.feature_extraction.text import TfidfVectorizer\n",
    "\n",
    "from sklearn.feature_extraction.text import CountVectorizer\n",
    "from sklearn.metrics import confusion_matrix\n",
    "from sklearn import metrics\n",
    "from sklearn.metrics import roc_curve, auc\n",
    "from nltk.stem.porter import PorterStemmer\n",
    "\n",
    "import re\n",
    "import string\n",
    "from nltk.corpus import stopwords\n",
    "from nltk.stem import PorterStemmer\n",
    "from nltk.stem.wordnet import WordNetLemmatizer\n",
    "from gensim.models import Word2Vec\n",
    "from gensim.models import KeyedVectors\n",
    "import pickle\n",
    "\n",
    "from tqdm import tqdm\n",
    "import os"
   ]
  },
  {
   "cell_type": "markdown",
   "metadata": {},
   "source": [
    "# Data Preprocessing:"
   ]
  },
  {
   "cell_type": "code",
   "execution_count": 2,
   "metadata": {},
   "outputs": [
    {
     "name": "stdout",
     "output_type": "stream",
     "text": [
      "Number of data points in our data (525814, 10)\n"
     ]
    }
   ],
   "source": [
    "\n",
    "# using the SQLite Table to read data.\n",
    "con = sqlite3.connect('database.sqlite') \n",
    "#filtering only positive and negative reviews i.e. \n",
    "# not taking into consideration those reviews with Score=3\n",
    "filtered_data = pd.read_sql_query(\"\"\" SELECT * FROM Reviews WHERE Score != 3 \"\"\", con) \n",
    "\n",
    "\n",
    "# Give reviews with Score>3 a positive rating, and reviews with a score<3 a negative rating.\n",
    "def partition(x):\n",
    "    if x < 3:\n",
    "        return 0\n",
    "    return 1\n",
    "\n",
    "#changing reviews with score less than 3 to be positive and vice-versa\n",
    "actualScore = filtered_data['Score']\n",
    "positiveNegative = actualScore.map(partition) \n",
    "filtered_data['Score'] = positiveNegative\n",
    "print(\"Number of data points in our data\", filtered_data.shape)\n",
    "#filtered_data.head(3)"
   ]
  },
  {
   "cell_type": "code",
   "execution_count": 3,
   "metadata": {},
   "outputs": [],
   "source": [
    "display= pd.read_sql_query(\"\"\"SELECT * FROM Reviews WHERE Score != 3 AND UserId=\"AR5J8UI46CURR\" ORDER BY ProductID \"\"\", con)"
   ]
  },
  {
   "cell_type": "code",
   "execution_count": 4,
   "metadata": {},
   "outputs": [],
   "source": [
    "sorted_data=filtered_data.sort_values('ProductId', axis=0, ascending=True, inplace=False, kind='quicksort', na_position='last')"
   ]
  },
  {
   "cell_type": "code",
   "execution_count": 5,
   "metadata": {},
   "outputs": [
    {
     "data": {
      "text/plain": [
       "(364173, 10)"
      ]
     },
     "execution_count": 5,
     "metadata": {},
     "output_type": "execute_result"
    }
   ],
   "source": [
    "final=sorted_data.drop_duplicates(subset={\"UserId\",\"ProfileName\",\"Time\",\"Text\"}, keep='first', inplace=False)\n",
    "final.shape"
   ]
  },
  {
   "cell_type": "code",
   "execution_count": 6,
   "metadata": {},
   "outputs": [],
   "source": [
    "display= pd.read_sql_query(\"\"\" SELECT * FROM Reviews WHERE Score != 3 AND Id=44737 OR Id=64422 ORDER BY ProductID\"\"\", con)"
   ]
  },
  {
   "cell_type": "code",
   "execution_count": 7,
   "metadata": {},
   "outputs": [
    {
     "name": "stdout",
     "output_type": "stream",
     "text": [
      "(364171, 10)\n"
     ]
    },
    {
     "data": {
      "text/plain": [
       "1    307061\n",
       "0     57110\n",
       "Name: Score, dtype: int64"
      ]
     },
     "execution_count": 7,
     "metadata": {},
     "output_type": "execute_result"
    }
   ],
   "source": [
    "final=final[final.HelpfulnessNumerator<=final.HelpfulnessDenominator]\n",
    "\n",
    "print(final.shape)\n",
    "\n",
    "#How many positive and negative reviews are present in our dataset?\n",
    "final['Score'].value_counts()"
   ]
  },
  {
   "cell_type": "code",
   "execution_count": 102,
   "metadata": {},
   "outputs": [
    {
     "data": {
      "text/html": [
       "<div>\n",
       "<style scoped>\n",
       "    .dataframe tbody tr th:only-of-type {\n",
       "        vertical-align: middle;\n",
       "    }\n",
       "\n",
       "    .dataframe tbody tr th {\n",
       "        vertical-align: top;\n",
       "    }\n",
       "\n",
       "    .dataframe thead th {\n",
       "        text-align: right;\n",
       "    }\n",
       "</style>\n",
       "<table border=\"1\" class=\"dataframe\">\n",
       "  <thead>\n",
       "    <tr style=\"text-align: right;\">\n",
       "      <th></th>\n",
       "      <th>Id</th>\n",
       "      <th>ProductId</th>\n",
       "      <th>UserId</th>\n",
       "      <th>ProfileName</th>\n",
       "      <th>HelpfulnessNumerator</th>\n",
       "      <th>HelpfulnessDenominator</th>\n",
       "      <th>Score</th>\n",
       "      <th>Time</th>\n",
       "      <th>Summary</th>\n",
       "      <th>Text</th>\n",
       "      <th>CleanedText</th>\n",
       "    </tr>\n",
       "  </thead>\n",
       "  <tbody>\n",
       "    <tr>\n",
       "      <th>138706</th>\n",
       "      <td>150524</td>\n",
       "      <td>0006641040</td>\n",
       "      <td>ACITT7DI6IDDL</td>\n",
       "      <td>shari zychinski</td>\n",
       "      <td>0</td>\n",
       "      <td>0</td>\n",
       "      <td>1</td>\n",
       "      <td>939340800</td>\n",
       "      <td>EVERY book is educational</td>\n",
       "      <td>this witty little book makes my son laugh at l...</td>\n",
       "      <td>witti littl book make son laugh loud recit car...</td>\n",
       "    </tr>\n",
       "    <tr>\n",
       "      <th>138683</th>\n",
       "      <td>150501</td>\n",
       "      <td>0006641040</td>\n",
       "      <td>AJ46FKXOVC7NR</td>\n",
       "      <td>Nicholas A Mesiano</td>\n",
       "      <td>2</td>\n",
       "      <td>2</td>\n",
       "      <td>1</td>\n",
       "      <td>940809600</td>\n",
       "      <td>This whole series is great way to spend time w...</td>\n",
       "      <td>I can remember seeing the show when it aired o...</td>\n",
       "      <td>rememb see show air televis year ago child sis...</td>\n",
       "    </tr>\n",
       "    <tr>\n",
       "      <th>417839</th>\n",
       "      <td>451856</td>\n",
       "      <td>B00004CXX9</td>\n",
       "      <td>AIUWLEQ1ADEG5</td>\n",
       "      <td>Elizabeth Medina</td>\n",
       "      <td>0</td>\n",
       "      <td>0</td>\n",
       "      <td>1</td>\n",
       "      <td>944092800</td>\n",
       "      <td>Entertainingl Funny!</td>\n",
       "      <td>Beetlejuice is a well written movie ..... ever...</td>\n",
       "      <td>beetlejuic well written movi everyth excel act...</td>\n",
       "    </tr>\n",
       "    <tr>\n",
       "      <th>346055</th>\n",
       "      <td>374359</td>\n",
       "      <td>B00004CI84</td>\n",
       "      <td>A344SMIA5JECGM</td>\n",
       "      <td>Vincent P. Ross</td>\n",
       "      <td>1</td>\n",
       "      <td>2</td>\n",
       "      <td>1</td>\n",
       "      <td>944438400</td>\n",
       "      <td>A modern day fairy tale</td>\n",
       "      <td>A twist of rumplestiskin captured on film, sta...</td>\n",
       "      <td>twist rumplestiskin captur film star michael k...</td>\n",
       "    </tr>\n",
       "    <tr>\n",
       "      <th>417838</th>\n",
       "      <td>451855</td>\n",
       "      <td>B00004CXX9</td>\n",
       "      <td>AJH6LUC1UT1ON</td>\n",
       "      <td>The Phantom of the Opera</td>\n",
       "      <td>0</td>\n",
       "      <td>0</td>\n",
       "      <td>1</td>\n",
       "      <td>946857600</td>\n",
       "      <td>FANTASTIC!</td>\n",
       "      <td>Beetlejuice is an excellent and funny movie. K...</td>\n",
       "      <td>beetlejuic excel funni movi keaton hilari wack...</td>\n",
       "    </tr>\n",
       "  </tbody>\n",
       "</table>\n",
       "</div>"
      ],
      "text/plain": [
       "            Id   ProductId          UserId               ProfileName  \\\n",
       "138706  150524  0006641040   ACITT7DI6IDDL           shari zychinski   \n",
       "138683  150501  0006641040   AJ46FKXOVC7NR        Nicholas A Mesiano   \n",
       "417839  451856  B00004CXX9   AIUWLEQ1ADEG5          Elizabeth Medina   \n",
       "346055  374359  B00004CI84  A344SMIA5JECGM           Vincent P. Ross   \n",
       "417838  451855  B00004CXX9   AJH6LUC1UT1ON  The Phantom of the Opera   \n",
       "\n",
       "        HelpfulnessNumerator  HelpfulnessDenominator  Score       Time  \\\n",
       "138706                     0                       0      1  939340800   \n",
       "138683                     2                       2      1  940809600   \n",
       "417839                     0                       0      1  944092800   \n",
       "346055                     1                       2      1  944438400   \n",
       "417838                     0                       0      1  946857600   \n",
       "\n",
       "                                                  Summary  \\\n",
       "138706                          EVERY book is educational   \n",
       "138683  This whole series is great way to spend time w...   \n",
       "417839                               Entertainingl Funny!   \n",
       "346055                            A modern day fairy tale   \n",
       "417838                                         FANTASTIC!   \n",
       "\n",
       "                                                     Text  \\\n",
       "138706  this witty little book makes my son laugh at l...   \n",
       "138683  I can remember seeing the show when it aired o...   \n",
       "417839  Beetlejuice is a well written movie ..... ever...   \n",
       "346055  A twist of rumplestiskin captured on film, sta...   \n",
       "417838  Beetlejuice is an excellent and funny movie. K...   \n",
       "\n",
       "                                              CleanedText  \n",
       "138706  witti littl book make son laugh loud recit car...  \n",
       "138683  rememb see show air televis year ago child sis...  \n",
       "417839  beetlejuic well written movi everyth excel act...  \n",
       "346055  twist rumplestiskin captur film star michael k...  \n",
       "417838  beetlejuic excel funni movi keaton hilari wack...  "
      ]
     },
     "execution_count": 102,
     "metadata": {},
     "output_type": "execute_result"
    }
   ],
   "source": [
    "final.head(5)"
   ]
  },
  {
   "cell_type": "code",
   "execution_count": 8,
   "metadata": {},
   "outputs": [],
   "source": [
    "stop = set(stopwords.words('english')) #set of stopwords\n",
    "sno = nltk.stem.SnowballStemmer('english') #initialising the snowball stemmer\n",
    "\n",
    "def cleanhtml(sentence): #function to clean the word of any html-tags\n",
    "    cleanr = re.compile('<.*?>')\n",
    "    cleantext = re.sub(cleanr, ' ', sentence)\n",
    "    return cleantext\n",
    "def cleanpunc(sentence): #function to clean the word of any punctuation or special characters\n",
    "    cleaned = re.sub(r'[?|!|\\'|\"|#]',r'',sentence)\n",
    "    cleaned = re.sub(r'[.|,|)|(|\\|/]',r' ',cleaned)\n",
    "    return  cleaned"
   ]
  },
  {
   "cell_type": "code",
   "execution_count": 106,
   "metadata": {},
   "outputs": [
    {
     "name": "stderr",
     "output_type": "stream",
     "text": [
      "100%|█████████████████████████████████████████████████████████████████████████| 364171/364171 [19:24<00:00, 312.76it/s]\n",
      "100%|████████████████████████████████████████████████████████████████████████| 364171/364171 [00:54<00:00, 6657.78it/s]\n"
     ]
    }
   ],
   "source": [
    "if os.path.isfile('final.sqlite'):\n",
    "    i=0\n",
    "    str1=' '\n",
    "    final_string=[]\n",
    "    final_string_summary=[]\n",
    "    all_positive_words=[] # store words from +ve reviews here\n",
    "    all_negative_words=[] # store words from -ve reviews here.\n",
    "    s=''\n",
    "    for sent in tqdm(final['Text'].values):#tqdm() is used to check how much % of loop is iterated and we can also see \n",
    "        filtered_sentence=[]\n",
    "        #print(sent);\n",
    "        sent=cleanhtml(sent) # html tags are removed i the sentance by calling cleanhtml() function\n",
    "        for w in sent.split():#spliting every every word in the sentance  \n",
    "            for cleaned_words in cleanpunc(w).split():#puncuations are removed for every word the by calling cleanpunc() \n",
    "                if((cleaned_words.isalpha()) & (len(cleaned_words)>2)):#isalpha() is a function used to check the word is alphabet or not     \n",
    "                    if(cleaned_words.lower() not in stop):#all the words are lowered\n",
    "                        s=(sno.stem(cleaned_words.lower())).encode('utf8')#snowball steming for each word\n",
    "                        filtered_sentence.append(s)\n",
    "                        if (final['Score'].values)[i] == 'positive': \n",
    "                            all_positive_words.append(s) #list of all words used to describe positive reviews\n",
    "                        if(final['Score'].values)[i] == 'negative':\n",
    "                            all_negative_words.append(s) #list of all words used to describe negative reviews reviews\n",
    "                    else:\n",
    "                        continue\n",
    "                else:\n",
    "                    continue \n",
    "        str1 = b\" \".join(filtered_sentence) #final string of cleaned words\n",
    "        final_string.append(str1)\n",
    "        i+=1\n",
    "        \n",
    "    for sent in tqdm(final['Summary'].values):#tqdm() is used to check how much % of loop is iterated and we can also see \n",
    "        filtered_sentence=[]\n",
    "        #print(sent);\n",
    "        sent=cleanhtml(sent) # html tags are removed i the sentance by calling cleanhtml() function\n",
    "        for w in sent.split():#spliting every every word in the sentance  \n",
    "            for cleaned_words in cleanpunc(w).split():#puncuations are removed for every word the by calling cleanpunc() \n",
    "                if((cleaned_words.isalpha()) & (len(cleaned_words)>2)):#isalpha() is a function used to check the word is alphabet or not     \n",
    "                    if(cleaned_words.lower() not in stop):#all the words are lowered\n",
    "                        s=(sno.stem(cleaned_words.lower())).encode('utf8')#snowball steming for each word\n",
    "                        filtered_sentence.append(s)\n",
    "                        \n",
    "                    else:\n",
    "                        continue\n",
    "                else:\n",
    "                    continue \n",
    "        str2 = b\" \".join(filtered_sentence) #final string of cleaned words\n",
    "        final_string_summary.append(str2)\n",
    "        i+=1\n",
    "        \n",
    "        \n",
    "    final['CleanedText']=final_string #adding a column of CleanedText which displays the data after pre-processing of the review \n",
    "    final['CleanedText']=final['CleanedText'].str.decode(\"utf-8\")\n",
    "    \n",
    "    final['CleanedSummary']=final_string_summary\n",
    "    final['CleanedSummary']=final['CleanedSummary'].str.decode(\"utf-8\")\n",
    "    # store final table into an SQlLite table for future.\n",
    "    conn = sqlite3.connect('final.sqlite')\n",
    "    c=conn.cursor()\n",
    "    conn.text_factory = str\n",
    "    final.to_sql('Reviews', conn,  schema=None, if_exists='replace',index=True, index_label=None, chunksize=None, dtype=None)\n",
    "    conn.close()"
   ]
  },
  {
   "cell_type": "code",
   "execution_count": null,
   "metadata": {},
   "outputs": [],
   "source": []
  },
  {
   "cell_type": "code",
   "execution_count": 107,
   "metadata": {},
   "outputs": [
    {
     "data": {
      "text/plain": [
       "(364171, 12)"
      ]
     },
     "execution_count": 107,
     "metadata": {},
     "output_type": "execute_result"
    }
   ],
   "source": [
    "final.shape"
   ]
  },
  {
   "cell_type": "code",
   "execution_count": 109,
   "metadata": {},
   "outputs": [
    {
     "data": {
      "text/html": [
       "<div>\n",
       "<style scoped>\n",
       "    .dataframe tbody tr th:only-of-type {\n",
       "        vertical-align: middle;\n",
       "    }\n",
       "\n",
       "    .dataframe tbody tr th {\n",
       "        vertical-align: top;\n",
       "    }\n",
       "\n",
       "    .dataframe thead th {\n",
       "        text-align: right;\n",
       "    }\n",
       "</style>\n",
       "<table border=\"1\" class=\"dataframe\">\n",
       "  <thead>\n",
       "    <tr style=\"text-align: right;\">\n",
       "      <th></th>\n",
       "      <th>Id</th>\n",
       "      <th>ProductId</th>\n",
       "      <th>UserId</th>\n",
       "      <th>ProfileName</th>\n",
       "      <th>HelpfulnessNumerator</th>\n",
       "      <th>HelpfulnessDenominator</th>\n",
       "      <th>Score</th>\n",
       "      <th>Time</th>\n",
       "      <th>Summary</th>\n",
       "      <th>Text</th>\n",
       "      <th>CleanedText</th>\n",
       "      <th>CleanedSummary</th>\n",
       "    </tr>\n",
       "  </thead>\n",
       "  <tbody>\n",
       "    <tr>\n",
       "      <th>138706</th>\n",
       "      <td>150524</td>\n",
       "      <td>0006641040</td>\n",
       "      <td>ACITT7DI6IDDL</td>\n",
       "      <td>shari zychinski</td>\n",
       "      <td>0</td>\n",
       "      <td>0</td>\n",
       "      <td>1</td>\n",
       "      <td>939340800</td>\n",
       "      <td>EVERY book is educational</td>\n",
       "      <td>this witty little book makes my son laugh at l...</td>\n",
       "      <td>witti littl book make son laugh loud recit car...</td>\n",
       "      <td>everi book educ</td>\n",
       "    </tr>\n",
       "    <tr>\n",
       "      <th>138683</th>\n",
       "      <td>150501</td>\n",
       "      <td>0006641040</td>\n",
       "      <td>AJ46FKXOVC7NR</td>\n",
       "      <td>Nicholas A Mesiano</td>\n",
       "      <td>2</td>\n",
       "      <td>2</td>\n",
       "      <td>1</td>\n",
       "      <td>940809600</td>\n",
       "      <td>This whole series is great way to spend time w...</td>\n",
       "      <td>I can remember seeing the show when it aired o...</td>\n",
       "      <td>rememb see show air televis year ago child sis...</td>\n",
       "      <td>whole seri great way spend time child</td>\n",
       "    </tr>\n",
       "    <tr>\n",
       "      <th>417839</th>\n",
       "      <td>451856</td>\n",
       "      <td>B00004CXX9</td>\n",
       "      <td>AIUWLEQ1ADEG5</td>\n",
       "      <td>Elizabeth Medina</td>\n",
       "      <td>0</td>\n",
       "      <td>0</td>\n",
       "      <td>1</td>\n",
       "      <td>944092800</td>\n",
       "      <td>Entertainingl Funny!</td>\n",
       "      <td>Beetlejuice is a well written movie ..... ever...</td>\n",
       "      <td>beetlejuic well written movi everyth excel act...</td>\n",
       "      <td>entertainingl funni</td>\n",
       "    </tr>\n",
       "    <tr>\n",
       "      <th>346055</th>\n",
       "      <td>374359</td>\n",
       "      <td>B00004CI84</td>\n",
       "      <td>A344SMIA5JECGM</td>\n",
       "      <td>Vincent P. Ross</td>\n",
       "      <td>1</td>\n",
       "      <td>2</td>\n",
       "      <td>1</td>\n",
       "      <td>944438400</td>\n",
       "      <td>A modern day fairy tale</td>\n",
       "      <td>A twist of rumplestiskin captured on film, sta...</td>\n",
       "      <td>twist rumplestiskin captur film star michael k...</td>\n",
       "      <td>modern day fairi tale</td>\n",
       "    </tr>\n",
       "    <tr>\n",
       "      <th>417838</th>\n",
       "      <td>451855</td>\n",
       "      <td>B00004CXX9</td>\n",
       "      <td>AJH6LUC1UT1ON</td>\n",
       "      <td>The Phantom of the Opera</td>\n",
       "      <td>0</td>\n",
       "      <td>0</td>\n",
       "      <td>1</td>\n",
       "      <td>946857600</td>\n",
       "      <td>FANTASTIC!</td>\n",
       "      <td>Beetlejuice is an excellent and funny movie. K...</td>\n",
       "      <td>beetlejuic excel funni movi keaton hilari wack...</td>\n",
       "      <td>fantast</td>\n",
       "    </tr>\n",
       "  </tbody>\n",
       "</table>\n",
       "</div>"
      ],
      "text/plain": [
       "            Id   ProductId          UserId               ProfileName  \\\n",
       "138706  150524  0006641040   ACITT7DI6IDDL           shari zychinski   \n",
       "138683  150501  0006641040   AJ46FKXOVC7NR        Nicholas A Mesiano   \n",
       "417839  451856  B00004CXX9   AIUWLEQ1ADEG5          Elizabeth Medina   \n",
       "346055  374359  B00004CI84  A344SMIA5JECGM           Vincent P. Ross   \n",
       "417838  451855  B00004CXX9   AJH6LUC1UT1ON  The Phantom of the Opera   \n",
       "\n",
       "        HelpfulnessNumerator  HelpfulnessDenominator  Score       Time  \\\n",
       "138706                     0                       0      1  939340800   \n",
       "138683                     2                       2      1  940809600   \n",
       "417839                     0                       0      1  944092800   \n",
       "346055                     1                       2      1  944438400   \n",
       "417838                     0                       0      1  946857600   \n",
       "\n",
       "                                                  Summary  \\\n",
       "138706                          EVERY book is educational   \n",
       "138683  This whole series is great way to spend time w...   \n",
       "417839                               Entertainingl Funny!   \n",
       "346055                            A modern day fairy tale   \n",
       "417838                                         FANTASTIC!   \n",
       "\n",
       "                                                     Text  \\\n",
       "138706  this witty little book makes my son laugh at l...   \n",
       "138683  I can remember seeing the show when it aired o...   \n",
       "417839  Beetlejuice is a well written movie ..... ever...   \n",
       "346055  A twist of rumplestiskin captured on film, sta...   \n",
       "417838  Beetlejuice is an excellent and funny movie. K...   \n",
       "\n",
       "                                              CleanedText  \\\n",
       "138706  witti littl book make son laugh loud recit car...   \n",
       "138683  rememb see show air televis year ago child sis...   \n",
       "417839  beetlejuic well written movi everyth excel act...   \n",
       "346055  twist rumplestiskin captur film star michael k...   \n",
       "417838  beetlejuic excel funni movi keaton hilari wack...   \n",
       "\n",
       "                               CleanedSummary  \n",
       "138706                        everi book educ  \n",
       "138683  whole seri great way spend time child  \n",
       "417839                    entertainingl funni  \n",
       "346055                  modern day fairi tale  \n",
       "417838                                fantast  "
      ]
     },
     "execution_count": 109,
     "metadata": {},
     "output_type": "execute_result"
    }
   ],
   "source": [
    "final.head(5)"
   ]
  },
  {
   "cell_type": "code",
   "execution_count": 110,
   "metadata": {},
   "outputs": [],
   "source": [
    "with open('final.pkl', 'wb') as f:\n",
    "        pickle.dump(final, f)"
   ]
  },
  {
   "cell_type": "code",
   "execution_count": 2,
   "metadata": {},
   "outputs": [],
   "source": [
    "with open('final.pkl', 'rb') as f:\n",
    "        final=pickle.load(f)"
   ]
  },
  {
   "cell_type": "code",
   "execution_count": 3,
   "metadata": {},
   "outputs": [
    {
     "data": {
      "text/plain": [
       "(364171, 12)"
      ]
     },
     "execution_count": 3,
     "metadata": {},
     "output_type": "execute_result"
    }
   ],
   "source": [
    "final.shape"
   ]
  },
  {
   "cell_type": "code",
   "execution_count": null,
   "metadata": {},
   "outputs": [],
   "source": []
  },
  {
   "cell_type": "code",
   "execution_count": 4,
   "metadata": {},
   "outputs": [],
   "source": [
    "final=final.sort_values('Time')"
   ]
  },
  {
   "cell_type": "code",
   "execution_count": 5,
   "metadata": {},
   "outputs": [],
   "source": [
    "final= final.tail(364000)"
   ]
  },
  {
   "cell_type": "code",
   "execution_count": 6,
   "metadata": {},
   "outputs": [],
   "source": [
    "fulltrain=final.head(291200)\n",
    "\n",
    "test=final.tail(72800)\n",
    "\n",
    "train=final.head(218400)\n",
    "\n",
    "cv=final.tail(72800)"
   ]
  },
  {
   "cell_type": "code",
   "execution_count": 7,
   "metadata": {},
   "outputs": [
    {
     "name": "stdout",
     "output_type": "stream",
     "text": [
      "1    246626\n",
      "0     44574\n",
      "Name: Score, dtype: int64\n",
      "1    186835\n",
      "0     31565\n",
      "Name: Score, dtype: int64\n",
      "1    60275\n",
      "0    12525\n",
      "Name: Score, dtype: int64\n",
      "1    60275\n",
      "0    12525\n",
      "Name: Score, dtype: int64\n"
     ]
    }
   ],
   "source": [
    "print(fulltrain[\"Score\"].value_counts())\n",
    "print(train[\"Score\"].value_counts())\n",
    "print(cv[\"Score\"].value_counts())\n",
    "print(test[\"Score\"].value_counts())"
   ]
  },
  {
   "cell_type": "code",
   "execution_count": 8,
   "metadata": {},
   "outputs": [],
   "source": [
    "train_scores=train[\"Score\"]\n",
    "cv_scores=cv[\"Score\"]\n",
    "test_scores=test[\"Score\"]\n",
    "full_train_scores=fulltrain[\"Score\"]"
   ]
  },
  {
   "cell_type": "code",
   "execution_count": 9,
   "metadata": {},
   "outputs": [
    {
     "name": "stdout",
     "output_type": "stream",
     "text": [
      "72800\n"
     ]
    }
   ],
   "source": [
    "print(test_scores.count())"
   ]
  },
  {
   "cell_type": "markdown",
   "metadata": {},
   "source": [
    "# BoW:"
   ]
  },
  {
   "cell_type": "code",
   "execution_count": 62,
   "metadata": {},
   "outputs": [],
   "source": [
    "count_vect = CountVectorizer()#Convert a collection of text documents to a matrix of token counts\n",
    "train_bow = count_vect.fit_transform(train[\"CleanedText\"].values)\n",
    "cv_bow = count_vect.transform(cv[\"CleanedText\"].values)\n",
    "test_bow = count_vect.transform(test[\"CleanedText\"].values)\n",
    "#full_train_bow=count_vect.fit_transform(fulltrain[\"CleanedText\"].values)\n",
    "#We use fit_transform() on the train data so that we learn the parameters of scaling on the train data and in the same time we scale the train data.\n",
    "#We use transform() on the cv & test data because we use the scaling paramaters learned on the train data to scale the test data."
   ]
  },
  {
   "cell_type": "code",
   "execution_count": 63,
   "metadata": {},
   "outputs": [
    {
     "data": {
      "text/plain": [
       "(72800, 54761)"
      ]
     },
     "execution_count": 63,
     "metadata": {},
     "output_type": "execute_result"
    }
   ],
   "source": [
    "test_bow.shape"
   ]
  },
  {
   "cell_type": "markdown",
   "metadata": {},
   "source": [
    "# TFIDF:"
   ]
  },
  {
   "cell_type": "code",
   "execution_count": 13,
   "metadata": {},
   "outputs": [],
   "source": [
    "tf_idf_vect = TfidfVectorizer()\n",
    "train_tf_idf = tf_idf_vect.fit_transform(train['CleanedText'].values)\n",
    "cv_tf_idf = tf_idf_vect.transform(cv['CleanedText'].values)\n",
    "test_tf_idf = tf_idf_vect.transform(test['CleanedText'].values)"
   ]
  },
  {
   "cell_type": "markdown",
   "metadata": {},
   "source": [
    "# NaviBayes with Bag of Words:"
   ]
  },
  {
   "cell_type": "code",
   "execution_count": 14,
   "metadata": {},
   "outputs": [
    {
     "name": "stderr",
     "output_type": "stream",
     "text": [
      "100%|██████████████████████████████████████████████████████████████████████████████████| 20/20 [00:10<00:00,  2.13it/s]\n"
     ]
    }
   ],
   "source": [
    "from sklearn.naive_bayes import MultinomialNB\n",
    "from sklearn.metrics import roc_auc_score \n",
    "from sklearn.metrics import precision_score\n",
    "from sklearn.metrics import recall_score\n",
    "from sklearn.metrics import f1_score\n",
    "auc_scores = []\n",
    "precision_scores=[]\n",
    "recall_scores=[]\n",
    "f1_scores=[]\n",
    "hyperparameter=[]\n",
    "for i in tqdm(range(1,21)):\n",
    "    \n",
    "    NB_bow = MultinomialNB(alpha=10**(i-10), fit_prior=True, class_prior=None)\n",
    "\n",
    "    NB_bow.fit(train_bow, train_scores)\n",
    "\n",
    "    predicted_bow_cv = NB_bow.predict(cv_bow)\n",
    "   \n",
    "    auc = roc_auc_score(cv_scores, predicted_bow_cv) * float(100)\n",
    "    precision= precision_score(cv_scores, predicted_bow_cv) * float(100)\n",
    "    recall = recall_score(cv_scores, predicted_bow_cv) * float(100)\n",
    "    f1 = f1_score(cv_scores, predicted_bow_cv) * float(100)\n",
    "    #f1-score is a harmonic mean of precision and recall\n",
    "    auc_scores.append(int(auc))\n",
    "    precision_scores.append(int(precision))\n",
    "    recall_scores.append(int(recall))\n",
    "    f1_scores.append(int(f1))\n",
    "    \n",
    "    hyperparameter.append(i)"
   ]
  },
  {
   "cell_type": "code",
   "execution_count": 15,
   "metadata": {},
   "outputs": [
    {
     "name": "stdout",
     "output_type": "stream",
     "text": [
      "[78, 78, 78, 79, 79, 79, 80, 81, 81, 80, 61, 49, 50, 50, 50, 50, 50, 50, 50, 50]\n",
      "[92, 92, 92, 92, 92, 93, 93, 93, 93, 93, 86, 82, 82, 82, 82, 82, 82, 82, 82, 82]\n",
      "[93, 93, 93, 93, 93, 93, 93, 93, 92, 94, 99, 99, 100, 100, 100, 100, 100, 100, 100, 100]\n",
      "[92, 92, 93, 93, 93, 93, 93, 93, 93, 93, 92, 90, 90, 90, 90, 90, 90, 90, 90, 90]\n",
      "[1, 2, 3, 4, 5, 6, 7, 8, 9, 10, 11, 12, 13, 14, 15, 16, 17, 18, 19, 20]\n"
     ]
    }
   ],
   "source": [
    "#hyperparameter.shape\n",
    "#scores.shape\n",
    "print(auc_scores)\n",
    "print(precision_scores)\n",
    "print(recall_scores)\n",
    "print(f1_scores)\n",
    "print(hyperparameter)"
   ]
  },
  {
   "cell_type": "code",
   "execution_count": 16,
   "metadata": {},
   "outputs": [
    {
     "data": {
      "image/png": "[encoded data removed]",
      "text/plain": [
       "<matplotlib.figure.Figure at 0x184c4bbc470>"
      ]
     },
     "metadata": {},
     "output_type": "display_data"
    }
   ],
   "source": [
    "from matplotlib.ticker import NullFormatter \n",
    "\n",
    "plt.plot(hyperparameter,auc_scores,'b', hyperparameter, precision_scores,'g', hyperparameter,recall_scores,'y' , hyperparameter,f1_scores,'r')\n",
    "plt.xlabel('hyperparameter')\n",
    "plt.ylabel('scores')\n",
    "plt.title('SCORES')\n",
    "\n",
    "plt.grid()\n",
    "plt.show()\n",
    "\n",
    "#bule line is AUC score\n",
    "#green line is precision score\n",
    "#yellow line is recall score\n",
    "#red line is f1-score"
   ]
  },
  {
   "cell_type": "markdown",
   "metadata": {},
   "source": [
    "Observation: In the above graph we can see that AUC, precision, f1 scores are maximum at alpha=1 i.e, when i=8 the alpha=10**(8-10)=>alpha=0.01 "
   ]
  },
  {
   "cell_type": "code",
   "execution_count": 17,
   "metadata": {},
   "outputs": [
    {
     "name": "stdout",
     "output_type": "stream",
     "text": [
      "AUC score on the test data: 81.13830903104616\n",
      "precision score on the test data: 93.56377036333016\n",
      "recall score on the test data: 93.09498133554541\n",
      "f1 score on the test data: 93.32878717317544\n"
     ]
    }
   ],
   "source": [
    "NB_bow_test = MultinomialNB(alpha=0.01, fit_prior=True, class_prior=None)\n",
    "\n",
    "NB_bow_test.fit(train_bow, train_scores)\n",
    "\n",
    "predicted_test_labels = NB_bow_test.predict(test_bow)\n",
    "\n",
    "auc = roc_auc_score(test_scores, predicted_test_labels) * float(100)\n",
    "precision= precision_score(test_scores, predicted_test_labels) * float(100)\n",
    "recall = recall_score(test_scores, predicted_test_labels) * float(100)\n",
    "f1 = f1_score(test_scores, predicted_test_labels) * float(100)\n",
    "\n",
    "print(\"AUC score on the test data:\",auc)\n",
    "print(\"precision score on the test data:\",precision)\n",
    "print(\"recall score on the test data:\",recall)\n",
    "print(\"f1 score on the test data:\",f1)"
   ]
  },
  {
   "cell_type": "markdown",
   "metadata": {},
   "source": [
    "obseration: On the test data we can see that the scores are slightly high"
   ]
  },
  {
   "cell_type": "code",
   "execution_count": 19,
   "metadata": {},
   "outputs": [
    {
     "data": {
      "image/png": "[encoded data removed]",
      "text/plain": [
       "<matplotlib.figure.Figure at 0x184c4995eb8>"
      ]
     },
     "metadata": {},
     "output_type": "display_data"
    }
   ],
   "source": [
    "from sklearn.metrics import confusion_matrix\n",
    "cnf = confusion_matrix(test_scores, predicted_test_labels)\n",
    "\n",
    "plt.imshow(cnf, interpolation='nearest', cmap=plt.cm.Wistia)\n",
    "classNames = ['Negative','Positive']\n",
    "plt.title('Confusion Matrix - Test Data')\n",
    "plt.ylabel('actual label')\n",
    "plt.xlabel('Predicted label')\n",
    "tick_marks = np.arange(len(classNames))\n",
    "plt.xticks(tick_marks, classNames, rotation=360)\n",
    "plt.yticks(tick_marks, classNames)\n",
    "s = [['TN','FP'], ['FN', 'TP']]\n",
    "for i in range(2):\n",
    "    for j in range(2):\n",
    "        plt.text(j,i, str(s[i][j])+\" = \"+str(cnf[i][j]))\n",
    "plt.show()\n"
   ]
  },
  {
   "cell_type": "markdown",
   "metadata": {},
   "source": [
    "Observation: In the confusion matrix we can see that                                                                            \n",
    "\n",
    "->93.5% positive labels are correctly predicted                                                                                 \n",
    "\n",
    "->67.5% negative labels are correctly predicted"
   ]
  },
  {
   "cell_type": "markdown",
   "metadata": {},
   "source": [
    "# Feature importance with Bow:"
   ]
  },
  {
   "cell_type": "code",
   "execution_count": 65,
   "metadata": {},
   "outputs": [
    {
     "name": "stdout",
     "output_type": "stream",
     "text": [
      "\n",
      "\n",
      " Top 10 Positive Features: like      -4.435948\n",
      "tast      -4.503586\n",
      "good      -4.640306\n",
      "flavor    -4.668156\n",
      "love      -4.698535\n",
      "great     -4.715245\n",
      "use       -4.736983\n",
      "one       -4.792957\n",
      "tea       -4.855864\n",
      "product   -4.877726\n",
      "Name: 1, dtype: float64\n",
      "\n",
      "\n",
      " Top 10 negitive Features: tast      -4.199357\n",
      "like      -4.285410\n",
      "product   -4.446367\n",
      "one       -4.720142\n",
      "flavor    -4.784606\n",
      "tri       -4.881099\n",
      "would     -4.891219\n",
      "good      -5.025381\n",
      "coffe     -5.074260\n",
      "use       -5.076730\n",
      "Name: 0, dtype: float64\n"
     ]
    }
   ],
   "source": [
    "bow_features=count_vect.get_feature_names()\n",
    "\n",
    "feature_count = NB_bow_test.feature_count_\n",
    "\n",
    "log_prob = NB_bow_test.feature_log_prob_\n",
    "\n",
    "\n",
    "feature_prob = pd.DataFrame(log_prob,columns = bow_features)\n",
    "\n",
    "feature_prob_tr = feature_prob.T\n",
    "\n",
    "print(\"\\n\\n Top 10 Positive Features:\",feature_prob_tr[1].sort_values(ascending = False)[0:10])\n",
    "\n",
    "print(\"\\n\\n Top 10 negitive Features:\",feature_prob_tr[0].sort_values(ascending = False)[0:10])"
   ]
  },
  {
   "cell_type": "markdown",
   "metadata": {},
   "source": [
    "# NaviBayes with tfidf:"
   ]
  },
  {
   "cell_type": "code",
   "execution_count": 21,
   "metadata": {},
   "outputs": [
    {
     "name": "stderr",
     "output_type": "stream",
     "text": [
      "100%|██████████████████████████████████████████████████████████████████████████████████| 20/20 [00:08<00:00,  2.21it/s]\n"
     ]
    }
   ],
   "source": [
    "hyperparameter_tfidf = []\n",
    "auc_scores_tfidf=[]\n",
    "precision_scores_tfidf =[]\n",
    "recall_scores_tfidf=[]\n",
    "f1_scores_tfidf=[]\n",
    "for i in tqdm(range(1,21)):\n",
    "    \n",
    "    NB_tfidf_cv = MultinomialNB(alpha=10**(i-10), fit_prior=True, class_prior=None)\n",
    "\n",
    "    \n",
    "    NB_tfidf_cv.fit(train_tf_idf, train_scores)\n",
    "\n",
    "    predicted_tfidf_cv = NB_tfidf_cv.predict(cv_tf_idf)#[j: j+1000]))\n",
    "        \n",
    "    auc = roc_auc_score(cv_scores, predicted_tfidf_cv) * float(100)\n",
    "    precision= precision_score(cv_scores, predicted_tfidf_cv) * float(100)\n",
    "    recall = recall_score(cv_scores, predicted_tfidf_cv) * float(100)\n",
    "    f1 = f1_score(cv_scores, predicted_tfidf_cv) * float(100)\n",
    "    #f1-score is a harmonic mean of precision and recall\n",
    "    auc_scores_tfidf.append(int(auc))\n",
    "    precision_scores_tfidf.append(int(precision))\n",
    "    recall_scores_tfidf.append(int(recall))\n",
    "    f1_scores_tfidf.append(int(f1))\n",
    "    #alpha=10**(i-5)\n",
    "    hyperparameter_tfidf.append(i)"
   ]
  },
  {
   "cell_type": "code",
   "execution_count": 22,
   "metadata": {},
   "outputs": [
    {
     "name": "stdout",
     "output_type": "stream",
     "text": [
      "[61, 61, 61, 61, 61, 61, 61, 62, 61, 53, 49, 50, 50, 50, 50, 50, 50, 50, 50, 50]\n",
      "[86, 86, 86, 86, 86, 86, 86, 86, 86, 83, 82, 82, 82, 82, 82, 82, 82, 82, 82, 82]\n",
      "[98, 98, 98, 98, 98, 98, 99, 99, 99, 99, 99, 100, 100, 100, 100, 100, 100, 100, 100, 100]\n",
      "[92, 92, 92, 92, 92, 92, 92, 92, 92, 91, 90, 90, 90, 90, 90, 90, 90, 90, 90, 90]\n",
      "[1, 2, 3, 4, 5, 6, 7, 8, 9, 10, 11, 12, 13, 14, 15, 16, 17, 18, 19, 20]\n"
     ]
    }
   ],
   "source": [
    "print(auc_scores_tfidf)\n",
    "print(precision_scores_tfidf)\n",
    "print(recall_scores_tfidf)\n",
    "print(f1_scores_tfidf)\n",
    "print(hyperparameter_tfidf)"
   ]
  },
  {
   "cell_type": "code",
   "execution_count": 23,
   "metadata": {},
   "outputs": [
    {
     "data": {
      "image/png": "[encoded data removed]",
      "text/plain": [
       "<matplotlib.figure.Figure at 0x184c6804048>"
      ]
     },
     "metadata": {},
     "output_type": "display_data"
    }
   ],
   "source": [
    "plt.plot(hyperparameter_tfidf,auc_scores_tfidf,'b', hyperparameter_tfidf, precision_scores_tfidf,'g', hyperparameter_tfidf,recall_scores_tfidf,'y' , hyperparameter_tfidf,f1_scores_tfidf,'r')\n",
    "plt.ylabel('scores')\n",
    "plt.xlabel('hyperparameter')\n",
    "plt.title('SCORES')\n",
    "\n",
    "plt.grid()\n",
    "plt.show()\n"
   ]
  },
  {
   "cell_type": "markdown",
   "metadata": {},
   "source": [
    "Observation: At the hyperparameter 8 we can see that all the scores are maximum "
   ]
  },
  {
   "cell_type": "code",
   "execution_count": 24,
   "metadata": {},
   "outputs": [
    {
     "name": "stdout",
     "output_type": "stream",
     "text": [
      "AUC score on the test data: 62.020364083115396\n",
      "precision score on the test data: 86.39878586398785\n",
      "recall score on the test data: 99.17046868519287\n",
      "f1 score on the test data: 92.34512590761626\n"
     ]
    }
   ],
   "source": [
    "NB_tfidf_test = MultinomialNB(alpha=10**(8-10), fit_prior=True, class_prior=None)\n",
    "\n",
    "NB_tfidf_test.fit(train_tf_idf, train_scores)\n",
    "\n",
    "\n",
    "predicted_labels_test_tfidf = NB_tfidf_test.predict(test_tf_idf)#[j: j+1000]))\n",
    "\n",
    "auc_tfidf = roc_auc_score(test_scores, predicted_labels_test_tfidf) * float(100)\n",
    "precision_tfidf= precision_score(test_scores, predicted_labels_test_tfidf) * float(100)\n",
    "recall_tfidf = recall_score(test_scores, predicted_labels_test_tfidf) * float(100)\n",
    "f1_tfidf = f1_score(test_scores, predicted_labels_test_tfidf) * float(100)\n",
    "\n",
    "print(\"AUC score on the test data:\",auc_tfidf)\n",
    "print(\"precision score on the test data:\",precision_tfidf)\n",
    "print(\"recall score on the test data:\",recall_tfidf)\n",
    "print(\"f1 score on the test data:\",f1_tfidf)"
   ]
  },
  {
   "cell_type": "code",
   "execution_count": 25,
   "metadata": {},
   "outputs": [
    {
     "data": {
      "image/png": "[encoded data removed]",
      "text/plain": [
       "<matplotlib.figure.Figure at 0x184ddcb53c8>"
      ]
     },
     "metadata": {},
     "output_type": "display_data"
    }
   ],
   "source": [
    "\n",
    "cm_tfidf = confusion_matrix(test_scores, predicted_labels_test_tfidf)\n",
    "\n",
    "\n",
    "plt.imshow(cm_tfidf, interpolation='nearest', cmap=plt.cm.Wistia)\n",
    "classNames = ['Negative','Positive']\n",
    "plt.title('Confusion Matrix - Test Data')\n",
    "plt.ylabel('actual label')\n",
    "plt.xlabel('Predicted label')\n",
    "notations = np.arange(len(classNames))\n",
    "plt.xticks(notations, classNames, rotation=360)\n",
    "plt.yticks(notations, classNames)\n",
    "s = [['TN','FP'], ['FN', 'TP']]\n",
    "for i in range(2):\n",
    "    for j in range(2):\n",
    "        plt.text(j,i, str(s[i][j])+\" = \"+str(cnf[i][j]))\n",
    "plt.show()\n"
   ]
  },
  {
   "cell_type": "markdown",
   "metadata": {},
   "source": [
    "Observation: In the confusion matrix we can see that                                                                            \n",
    "\n",
    "->93.1% positive labels are correctly predicted                                                                                 \n",
    "\n",
    "->74.9% negative labels are correctly predicted"
   ]
  },
  {
   "cell_type": "markdown",
   "metadata": {},
   "source": [
    "# Feature importance with tfidf:"
   ]
  },
  {
   "cell_type": "code",
   "execution_count": 91,
   "metadata": {},
   "outputs": [
    {
     "name": "stdout",
     "output_type": "stream",
     "text": [
      "\n",
      "\n",
      " Top 10 Positive Features: great     -5.065157\n",
      "love      -5.080484\n",
      "tast      -5.138238\n",
      "good      -5.140970\n",
      "tea       -5.155387\n",
      "like      -5.155475\n",
      "flavor    -5.218388\n",
      "coffe     -5.247307\n",
      "product   -5.315511\n",
      "use       -5.331382\n",
      "Name: 1, dtype: float64\n",
      "\n",
      "\n",
      " Top 10 Negitive Features: tast      -4.829164\n",
      "like      -4.980480\n",
      "product   -5.023219\n",
      "would     -5.331504\n",
      "flavor    -5.351310\n",
      "coffe     -5.355406\n",
      "one       -5.364543\n",
      "tri       -5.469748\n",
      "buy       -5.490286\n",
      "order     -5.497484\n",
      "Name: 0, dtype: float64\n"
     ]
    }
   ],
   "source": [
    "tfidf_features=tf_idf_vect.get_feature_names()\n",
    "\n",
    "feature_count = NB_tfidf_test.feature_count_\n",
    "\n",
    "log_prob = NB_tfidf_test.feature_log_prob_\n",
    "\n",
    "feature_prob = pd.DataFrame(log_prob, columns = tfidf_features)\n",
    "\n",
    "feature_prob_tr = feature_prob.T\n",
    "\n",
    "print(\"\\n\\n Top 10 Positive Features:\",feature_prob_tr[1].sort_values(ascending = False)[0:10])\n",
    "\n",
    "print(\"\\n\\n Top 10 Negitive Features:\",feature_prob_tr[0].sort_values(ascending = False)[0:10])"
   ]
  },
  {
   "cell_type": "code",
   "execution_count": 51,
   "metadata": {},
   "outputs": [
    {
     "data": {
      "text/plain": [
       "(2, 54761)"
      ]
     },
     "execution_count": 51,
     "metadata": {},
     "output_type": "execute_result"
    }
   ],
   "source": [
    "log_prob.shape"
   ]
  },
  {
   "cell_type": "code",
   "execution_count": 52,
   "metadata": {},
   "outputs": [
    {
     "data": {
      "text/plain": [
       "54761"
      ]
     },
     "execution_count": 52,
     "metadata": {},
     "output_type": "execute_result"
    }
   ],
   "source": [
    "len(tfidf_features)"
   ]
  },
  {
   "cell_type": "markdown",
   "metadata": {},
   "source": [
    "\n",
    "# Feature Engineering:"
   ]
  },
  {
   "cell_type": "markdown",
   "metadata": {},
   "source": [
    "In feature engineering we combining the total avaliable text data i.e., summary and text data "
   ]
  },
  {
   "cell_type": "code",
   "execution_count": 66,
   "metadata": {},
   "outputs": [],
   "source": [
    "final[\"fulltext\"] = final[\"CleanedText\"] + final[\"CleanedSummary\"]"
   ]
  },
  {
   "cell_type": "code",
   "execution_count": 67,
   "metadata": {},
   "outputs": [
    {
     "name": "stdout",
     "output_type": "stream",
     "text": [
      "1    306901\n",
      "0     57099\n",
      "Name: Score, dtype: int64\n"
     ]
    }
   ],
   "source": [
    "print(final['Score'].value_counts())"
   ]
  },
  {
   "cell_type": "code",
   "execution_count": 68,
   "metadata": {},
   "outputs": [],
   "source": [
    "fe_fulltrain=final.head(291200)\n",
    "\n",
    "fe_test=final.tail(72800)\n",
    "\n",
    "fe_train=final.head(218400)\n",
    "\n",
    "fe_cv=final.tail(72800)"
   ]
  },
  {
   "cell_type": "code",
   "execution_count": 69,
   "metadata": {},
   "outputs": [
    {
     "data": {
      "text/plain": [
       "1    60275\n",
       "0    12525\n",
       "Name: Score, dtype: int64"
      ]
     },
     "execution_count": 69,
     "metadata": {},
     "output_type": "execute_result"
    }
   ],
   "source": [
    "fe_test[\"Score\"].value_counts()"
   ]
  },
  {
   "cell_type": "code",
   "execution_count": 70,
   "metadata": {},
   "outputs": [],
   "source": [
    "fe_train_scores=fe_train[\"Score\"]\n",
    "fe_cv_scores=fe_cv[\"Score\"]\n",
    "fe_test_scores=fe_test[\"Score\"]\n",
    "fe_full_train_scores=fe_fulltrain[\"Score\"]"
   ]
  },
  {
   "cell_type": "code",
   "execution_count": 71,
   "metadata": {},
   "outputs": [],
   "source": [
    "fe_count_vect = CountVectorizer()#Convert a collection of text documents to a matrix of token counts\n",
    "fe_train_bow = fe_count_vect.fit_transform(fe_train[\"fulltext\"].values)\n",
    "fe_cv_bow = fe_count_vect.transform(fe_cv[\"fulltext\"].values)\n",
    "fe_test_bow = fe_count_vect.transform(fe_test[\"fulltext\"].values)\n",
    "#fe_full_train_bow = fe_count_vect.fit_transform(fe_fulltrain[\"fulltext\"].values)"
   ]
  },
  {
   "cell_type": "code",
   "execution_count": 72,
   "metadata": {},
   "outputs": [
    {
     "data": {
      "text/plain": [
       "(72800, 173618)"
      ]
     },
     "execution_count": 72,
     "metadata": {},
     "output_type": "execute_result"
    }
   ],
   "source": [
    "fe_test_bow.shape"
   ]
  },
  {
   "cell_type": "code",
   "execution_count": 73,
   "metadata": {},
   "outputs": [],
   "source": [
    "fe_tfidf_vect = TfidfVectorizer()\n",
    "fe_train_tf_idf = fe_tfidf_vect.fit_transform(fe_train['fulltext'].values)\n",
    "fe_cv_tf_idf = fe_tfidf_vect.transform(fe_cv['fulltext'].values)\n",
    "fe_test_tf_idf = fe_tfidf_vect.transform(fe_test['fulltext'].values)"
   ]
  },
  {
   "cell_type": "code",
   "execution_count": 105,
   "metadata": {},
   "outputs": [
    {
     "name": "stderr",
     "output_type": "stream",
     "text": [
      "100%|██████████████████████████████████████████████████████████████████████████████████| 20/20 [00:08<00:00,  2.35it/s]\n"
     ]
    }
   ],
   "source": [
    "auc_scores = []\n",
    "precision_scores=[]\n",
    "recall_scores=[]\n",
    "f1_scores=[]\n",
    "hyperparameter=[]\n",
    "for i in tqdm(range(1,21)):\n",
    "    \n",
    "    NB_bow = MultinomialNB(alpha=10**(i-10), fit_prior=True, class_prior=None)\n",
    "\n",
    "    NB_bow.fit(fe_train_bow, fe_train_scores)\n",
    "\n",
    "    predicted_bow_cv = NB_bow.predict(fe_cv_bow)\n",
    "   \n",
    "    auc = roc_auc_score(fe_cv_scores, predicted_bow_cv) * float(100)\n",
    "    precision= precision_score(fe_cv_scores, predicted_bow_cv) * float(100)\n",
    "    recall = recall_score(fe_cv_scores, predicted_bow_cv) * float(100)\n",
    "    f1 = f1_score(fe_cv_scores, predicted_bow_cv) * float(100)\n",
    "    #f1-score is a harmonic mean of precision and recall\n",
    "    auc_scores.append(int(auc))\n",
    "    precision_scores.append(int(precision))\n",
    "    recall_scores.append(int(recall))\n",
    "    f1_scores.append(int(f1))\n",
    "    \n",
    "    hyperparameter.append(i)"
   ]
  },
  {
   "cell_type": "code",
   "execution_count": 106,
   "metadata": {},
   "outputs": [
    {
     "name": "stdout",
     "output_type": "stream",
     "text": [
      "[78, 78, 79, 79, 79, 80, 81, 82, 83, 77, 50, 49, 50, 50, 50, 50, 50, 50, 50, 50]\n",
      "[92, 92, 92, 92, 92, 93, 93, 93, 94, 91, 83, 82, 82, 82, 82, 82, 82, 82, 82, 82]\n",
      "[94, 94, 94, 94, 94, 94, 94, 93, 93, 96, 99, 99, 100, 100, 100, 100, 100, 100, 100, 100]\n",
      "[93, 93, 93, 93, 93, 93, 93, 93, 94, 94, 90, 90, 90, 90, 90, 90, 90, 90, 90, 90]\n",
      "[1, 2, 3, 4, 5, 6, 7, 8, 9, 10, 11, 12, 13, 14, 15, 16, 17, 18, 19, 20]\n"
     ]
    }
   ],
   "source": [
    "print(auc_scores)\n",
    "print(precision_scores)\n",
    "print(recall_scores)\n",
    "print(f1_scores)\n",
    "print(hyperparameter)"
   ]
  },
  {
   "cell_type": "code",
   "execution_count": 107,
   "metadata": {},
   "outputs": [
    {
     "data": {
      "image/png": "[encoded data removed]",
      "text/plain": [
       "<matplotlib.figure.Figure at 0x18483698898>"
      ]
     },
     "metadata": {},
     "output_type": "display_data"
    }
   ],
   "source": [
    "plt.plot(hyperparameter,auc_scores,'b', hyperparameter, precision_scores,'g', hyperparameter,recall_scores,'y' , hyperparameter,f1_scores,'r')\n",
    "plt.xlabel('hyperparameter')\n",
    "plt.ylabel('scores')\n",
    "plt.title('SCORES')\n",
    "\n",
    "plt.grid()\n",
    "plt.show()"
   ]
  },
  {
   "cell_type": "code",
   "execution_count": 108,
   "metadata": {},
   "outputs": [
    {
     "name": "stdout",
     "output_type": "stream",
     "text": [
      "AUC score on the test data: 83.07890564784988\n",
      "precision score on the test data: 94.21773804172285\n",
      "recall score on the test data: 93.88635420987143\n",
      "f1 score on the test data: 94.05175422559789\n"
     ]
    }
   ],
   "source": [
    "predicted_test_labels=[]\n",
    "fe_NB_bow_test = MultinomialNB(alpha=0.1, fit_prior=True, class_prior=None)\n",
    "\n",
    "fe_NB_bow_test.fit(fe_train_bow, fe_train_scores)\n",
    "\n",
    "predicted_test_labels = fe_NB_bow_test.predict(fe_test_bow)\n",
    "\n",
    "auc = roc_auc_score(fe_test_scores, predicted_test_labels) * float(100)\n",
    "precision= precision_score(fe_test_scores, predicted_test_labels) * float(100)\n",
    "recall = recall_score(fe_test_scores, predicted_test_labels) * float(100)\n",
    "f1 = f1_score(fe_test_scores, predicted_test_labels) * float(100)\n",
    "\n",
    "print(\"AUC score on the test data:\",auc)\n",
    "print(\"precision score on the test data:\",precision)\n",
    "print(\"recall score on the test data:\",recall)\n",
    "print(\"f1 score on the test data:\",f1)"
   ]
  },
  {
   "cell_type": "code",
   "execution_count": 109,
   "metadata": {},
   "outputs": [
    {
     "data": {
      "image/png": "[encoded data removed]",
      "text/plain": [
       "<matplotlib.figure.Figure at 0x184833e9e10>"
      ]
     },
     "metadata": {},
     "output_type": "display_data"
    }
   ],
   "source": [
    "from sklearn.metrics import confusion_matrix\n",
    "cnf = confusion_matrix(fe_test_scores, predicted_test_labels)\n",
    "\n",
    "plt.imshow(cnf, interpolation='nearest', cmap=plt.cm.Wistia)\n",
    "classNames = ['Negative','Positive']\n",
    "plt.title('Confusion Matrix - Test Data after feature engineering')\n",
    "plt.ylabel('actual label')\n",
    "plt.xlabel('Predicted label')\n",
    "tick_marks = np.arange(len(classNames))\n",
    "plt.xticks(tick_marks, classNames, rotation=360)\n",
    "plt.yticks(tick_marks, classNames)\n",
    "s = [['TN','FP'], ['FN', 'TP']]\n",
    "for i in range(2):\n",
    "    for j in range(2):\n",
    "        plt.text(j,i, str(s[i][j])+\" = \"+str(cnf[i][j]))\n",
    "plt.show()\n"
   ]
  },
  {
   "cell_type": "code",
   "execution_count": 82,
   "metadata": {},
   "outputs": [
    {
     "name": "stdout",
     "output_type": "stream",
     "text": [
      "\n",
      "\n",
      " Top 10 Positive Features: like      -4.475078\n",
      "tast      -4.488754\n",
      "good      -4.634654\n",
      "flavor    -4.682549\n",
      "great     -4.705985\n",
      "love      -4.709975\n",
      "use       -4.784382\n",
      "tea       -4.789121\n",
      "one       -4.850800\n",
      "product   -4.878519\n",
      "Name: 1, dtype: float64\n",
      "\n",
      "\n",
      " Top 10 Negitive Features: tast      -4.190916\n",
      "like      -4.292515\n",
      "product   -4.502305\n",
      "one       -4.785767\n",
      "flavor    -4.793956\n",
      "would     -4.937566\n",
      "tri       -4.939405\n",
      "good      -5.047848\n",
      "coffe     -5.078986\n",
      "use       -5.126049\n",
      "Name: 0, dtype: float64\n"
     ]
    }
   ],
   "source": [
    "fe_Bow_features=fe_count_vect.get_feature_names()\n",
    "\n",
    "feature_count = fe_NB_bow_test.feature_count_\n",
    "\n",
    "log_prob = fe_NB_bow_test.feature_log_prob_\n",
    "\n",
    "feature_prob = pd.DataFrame(log_prob, columns = fe_Bow_features)\n",
    "\n",
    "feature_prob_tr = feature_prob.T\n",
    "\n",
    "print(\"\\n\\n Top 10 Positive Features:\",feature_prob_tr[1].sort_values(ascending = False)[0:10])\n",
    "\n",
    "print(\"\\n\\n Top 10 Negitive Features:\",feature_prob_tr[0].sort_values(ascending = False)[0:10])"
   ]
  },
  {
   "cell_type": "code",
   "execution_count": 110,
   "metadata": {},
   "outputs": [
    {
     "name": "stderr",
     "output_type": "stream",
     "text": [
      "100%|██████████████████████████████████████████████████████████████████████████████████| 20/20 [00:06<00:00,  3.17it/s]\n"
     ]
    }
   ],
   "source": [
    "hyperparameter_tfidf = []\n",
    "auc_scores_tfidf=[]\n",
    "precision_scores_tfidf =[]\n",
    "recall_scores_tfidf=[]\n",
    "f1_scores_tfidf=[]\n",
    "for i in tqdm(range(1,21)):\n",
    "    \n",
    "    fe_NB_tfidf_cv = MultinomialNB(alpha=10**(i-10), fit_prior=True, class_prior=None)\n",
    "\n",
    "    \n",
    "    fe_NB_tfidf_cv.fit(fe_train_tf_idf, fe_train_scores)\n",
    "\n",
    "    predicted_tfidf_cv = fe_NB_tfidf_cv.predict(fe_cv_tf_idf)\n",
    "        \n",
    "    auc = roc_auc_score(fe_cv_scores, predicted_tfidf_cv) * float(100)\n",
    "    precision= precision_score(fe_cv_scores, predicted_tfidf_cv) * float(100)\n",
    "    recall = recall_score(fe_cv_scores, predicted_tfidf_cv) * float(100)\n",
    "    f1 = f1_score(fe_cv_scores, predicted_tfidf_cv) * float(100)\n",
    "    #f1-score is a harmonic mean of precision and recall\n",
    "    auc_scores_tfidf.append(int(auc))\n",
    "    precision_scores_tfidf.append(int(precision))\n",
    "    recall_scores_tfidf.append(int(recall))\n",
    "    f1_scores_tfidf.append(int(f1))\n",
    "    #alpha=10**(i-5)\n",
    "    hyperparameter_tfidf.append(i)"
   ]
  },
  {
   "cell_type": "code",
   "execution_count": 111,
   "metadata": {},
   "outputs": [
    {
     "name": "stdout",
     "output_type": "stream",
     "text": [
      "[65, 65, 65, 65, 65, 65, 65, 65, 61, 50, 50, 50, 50, 50, 50, 50, 50, 50, 50, 50]\n",
      "[87, 87, 87, 87, 87, 87, 87, 87, 86, 82, 82, 82, 82, 82, 82, 82, 82, 82, 82, 82]\n",
      "[98, 98, 98, 98, 98, 98, 98, 98, 99, 99, 100, 100, 100, 100, 100, 100, 100, 100, 100, 100]\n",
      "[92, 92, 92, 92, 92, 92, 92, 92, 92, 90, 90, 90, 90, 90, 90, 90, 90, 90, 90, 90]\n",
      "[1, 2, 3, 4, 5, 6, 7, 8, 9, 10, 11, 12, 13, 14, 15, 16, 17, 18, 19, 20]\n"
     ]
    }
   ],
   "source": [
    "print(auc_scores_tfidf)\n",
    "print(precision_scores_tfidf)\n",
    "print(recall_scores_tfidf)\n",
    "print(f1_scores_tfidf)\n",
    "print(hyperparameter_tfidf)"
   ]
  },
  {
   "cell_type": "code",
   "execution_count": 112,
   "metadata": {},
   "outputs": [
    {
     "data": {
      "image/png": "[encoded data removed]",
      "text/plain": [
       "<matplotlib.figure.Figure at 0x18483929630>"
      ]
     },
     "metadata": {},
     "output_type": "display_data"
    }
   ],
   "source": [
    "plt.plot(hyperparameter_tfidf,auc_scores_tfidf,'b', hyperparameter_tfidf, precision_scores_tfidf,'g', hyperparameter_tfidf,recall_scores_tfidf,'y' , hyperparameter_tfidf,f1_scores_tfidf,'r')\n",
    "plt.ylabel('scores')\n",
    "plt.xlabel('hyperparameter')\n",
    "plt.title('SCORES')\n",
    "\n",
    "plt.grid()\n",
    "plt.show()"
   ]
  },
  {
   "cell_type": "code",
   "execution_count": 113,
   "metadata": {},
   "outputs": [
    {
     "name": "stdout",
     "output_type": "stream",
     "text": [
      "AUC score on the test data: 65.10472708668105\n",
      "precision score on the test data: 87.42663690256198\n",
      "recall score on the test data: 98.11364579012857\n",
      "f1 score on the test data: 92.46235869854125\n"
     ]
    }
   ],
   "source": [
    "fe_NB_tfidf_test = MultinomialNB(alpha=10**(1-10), fit_prior=True, class_prior=None)\n",
    "\n",
    "fe_NB_tfidf_test.fit(fe_train_tf_idf, fe_train_scores)\n",
    "\n",
    "\n",
    "fe_predicted_labels_test_tfidf = fe_NB_tfidf_test.predict(fe_test_tf_idf)#[j: j+1000]))\n",
    "\n",
    "auc_tfidf = roc_auc_score(fe_test_scores, fe_predicted_labels_test_tfidf) * float(100)\n",
    "precision_tfidf= precision_score(fe_test_scores, fe_predicted_labels_test_tfidf) * float(100)\n",
    "recall_tfidf = recall_score(fe_test_scores, fe_predicted_labels_test_tfidf) * float(100)\n",
    "f1_tfidf = f1_score(fe_test_scores, fe_predicted_labels_test_tfidf) * float(100)\n",
    "\n",
    "print(\"AUC score on the test data:\",auc_tfidf)\n",
    "print(\"precision score on the test data:\",precision_tfidf)\n",
    "print(\"recall score on the test data:\",recall_tfidf)\n",
    "print(\"f1 score on the test data:\",f1_tfidf)"
   ]
  },
  {
   "cell_type": "code",
   "execution_count": 114,
   "metadata": {},
   "outputs": [
    {
     "data": {
      "image/png": "[encoded data removed]",
      "text/plain": [
       "<matplotlib.figure.Figure at 0x1848afe7c50>"
      ]
     },
     "metadata": {},
     "output_type": "display_data"
    }
   ],
   "source": [
    "\n",
    "cm_tfidf = confusion_matrix(fe_test_scores, fe_predicted_labels_test_tfidf)\n",
    "\n",
    "\n",
    "plt.imshow(cm_tfidf, interpolation='nearest', cmap=plt.cm.Wistia)\n",
    "classNames = ['Negative','Positive']\n",
    "plt.title('Confusion Matrix - Test Data')\n",
    "plt.ylabel('actual label')\n",
    "plt.xlabel('Predicted label')\n",
    "notations = np.arange(len(classNames))\n",
    "plt.xticks(notations, classNames, rotation=360)\n",
    "plt.yticks(notations, classNames)\n",
    "s = [['TN','FP'], ['FN', 'TP']]\n",
    "for i in range(2):\n",
    "    for j in range(2):\n",
    "        plt.text(j,i, str(s[i][j])+\" = \"+str(cnf[i][j]))\n",
    "plt.show()\n"
   ]
  },
  {
   "cell_type": "code",
   "execution_count": 115,
   "metadata": {},
   "outputs": [
    {
     "name": "stdout",
     "output_type": "stream",
     "text": [
      "\n",
      "\n",
      " Top 10 Positive Features: tea       -5.126359\n",
      "great     -5.178017\n",
      "love      -5.195613\n",
      "tast      -5.203733\n",
      "good      -5.237721\n",
      "coffe     -5.239654\n",
      "like      -5.263852\n",
      "flavor    -5.303077\n",
      "product   -5.389410\n",
      "use       -5.443653\n",
      "Name: 1, dtype: float64\n",
      "\n",
      "\n",
      " Top 10 Negitive Features: tast      -4.884538\n",
      "like      -5.037380\n",
      "product   -5.143076\n",
      "coffe     -5.409416\n",
      "flavor    -5.409494\n",
      "would     -5.426959\n",
      "one       -5.473074\n",
      "tri       -5.561136\n",
      "order     -5.625805\n",
      "buy       -5.663892\n",
      "Name: 0, dtype: float64\n"
     ]
    }
   ],
   "source": [
    "tfidf_features=fe_tfidf_vect.get_feature_names()\n",
    "\n",
    "feature_count = fe_NB_tfidf_test.feature_count_\n",
    "\n",
    "log_prob = fe_NB_tfidf_test.feature_log_prob_\n",
    "\n",
    "feature_prob = pd.DataFrame(log_prob, columns = tfidf_features)\n",
    "\n",
    "feature_prob_tr = feature_prob.T\n",
    "\n",
    "print(\"\\n\\n Top 10 Positive Features:\",feature_prob_tr[1].sort_values(ascending = False)[0:10])\n",
    "\n",
    "print(\"\\n\\n Top 10 Negitive Features:\",feature_prob_tr[0].sort_values(ascending = False)[0:10])"
   ]
  },
  {
   "cell_type": "raw",
   "metadata": {},
   "source": [
    "P = correctly predicted positive's\n",
    "N = correctly predicted negitive's\n",
    "\n",
    "***********************************************************************************\n",
    "*     Scores     |    without FeaureEngineering    |    with FeatureEngineering   * \n",
    "***********************************************************************************\n",
    "*                |       BOW      |      tfidf     |      BOW      |     tfidf    *\n",
    "***********************************************************************************\n",
    "*       AUC      |       62.0     |       62.0     |      83.0     |      65.1    *\n",
    "***********************************************************************************\n",
    "*   precision    |       93.5     |       86.5     |      94.2     |      87.4    *\n",
    "***********************************************************************************\n",
    "*     recall     |       93.0     |       99.1     |      93.8     |      98.1    *\n",
    "***********************************************************************************\n",
    "*       f1       |       93.3     |       92.3     |      94.0     |      92.4    *\n",
    "***********************************************************************************\n",
    "*confusion_matrix| P =93.5,N=67.5 | P =93.5,N=67.5 | P=94.5,N=71.0 | P=94.5,N=71.0*\n",
    "***********************************************************************************\n",
    "*      alpha     |       0.01     |       0.01     |       0.1     |     10**-9   *\n",
    "***********************************************************************************\n",
    " "
   ]
  },
  {
   "cell_type": "markdown",
   "metadata": {},
   "source": [
    "# CONCLUSION:"
   ]
  },
  {
   "cell_type": "markdown",
   "metadata": {},
   "source": [
    "In the above table we can see that the classification correct positive's and negitive's are incresses when feature engineering. So, out of all positive points 94.5% points are correctly classified similarly out of all negitive points 71.0% points are correctly predicted.       "
   ]
  },
  {
   "cell_type": "code",
   "execution_count": null,
   "metadata": {},
   "outputs": [],
   "source": []
  }
 ],
 "metadata": {
  "kernelspec": {
   "display_name": "Python 3",
   "language": "python",
   "name": "python3"
  },
  "language_info": {
   "codemirror_mode": {
    "name": "ipython",
    "version": 3
   },
   "file_extension": ".py",
   "mimetype": "text/x-python",
   "name": "python",
   "nbconvert_exporter": "python",
   "pygments_lexer": "ipython3",
   "version": "3.6.4"
  }
 },
 "nbformat": 4,
 "nbformat_minor": 2
}
